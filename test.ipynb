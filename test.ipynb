{
 "cells": [
  {
   "cell_type": "markdown",
   "metadata": {},
   "source": [
    "Peparing test dataset"
   ]
  },
  {
   "cell_type": "code",
   "execution_count": 1,
   "metadata": {},
   "outputs": [
    {
     "name": "stderr",
     "output_type": "stream",
     "text": [
      "/home/is1ab/anaconda3/envs/cmdcaliper/lib/python3.10/site-packages/tqdm/auto.py:21: TqdmWarning: IProgress not found. Please update jupyter and ipywidgets. See https://ipywidgets.readthedocs.io/en/stable/user_install.html\n",
      "  from .autonotebook import tqdm as notebook_tqdm\n"
     ]
    }
   ],
   "source": [
    "from datasets import load_dataset\n",
    "\n",
    "ds = load_dataset(\"CyCraftAI/CyPHER\")"
   ]
  },
  {
   "cell_type": "code",
   "execution_count": 5,
   "metadata": {},
   "outputs": [
    {
     "name": "stdout",
     "output_type": "stream",
     "text": [
      "[\n",
      "    \"regasm /nologo /silent /codebase /verbose /tlb:C:\\\\Program Files\\\\Common Files\\\\Microsoft Shared\\\\Office16\\\\Mso20win32client.tlb \\\"C:\\\\Program Files\\\\Common Files\\\\Microsoft Shared\\\\Office16\\\\Mso20win32client.dll\\\"\",\n",
      "    \"icacls \\\"C:\\\\Users\\\\johnsmith\\\" /grant \\\"johnsmith:(F)\\\"\",\n",
      "    \"icacls C:\\\\Data\\\\Restricted /grant administrators:F /t\",\n",
      "    \"nslookup -type=txt _google._cloud.sharedflip.sft.consultant.cloud.goog\",\n",
      "    \"robocopy C:\\\\SourceFolder D:\\\\DestinationFolder /MIR /COPY:DATSO\",\n",
      "    \"powershell.exe -ExecutionPolicy Bypass -File \\\"C:\\\\Scripts\\\\DeleteOldFiles.ps1\\\" -SourcePath \\\"C:\\\\Users\\\\JohnDoe\\\\Documents\\\" -DestinationPath \\\"\\\\\\\\Server02\\\\Trash\\\" -LogFile \\\"C:\\\\Logs\\\\DeletedFiles.log\\\"\",\n",
      "    \"\\\"wsl --import UbuntuCustom 'C:\\\\WSL\\\\UbuntuCustom' 'C:\\\\Images\\\\UbuntuCustom.tar.gz' --version 2\\\"\",\n",
      "    \"\\\"C:\\\\Program Files (x86)\\\\Google\\\\Chrome\\\\Application\\\\chrome.exe\\\" --remote-debugging-port=9222 --user-data-dir=\\\"C:\\\\Users\\\\username\\\\AppData\\\\Local\\\\Temp\\\\ChromeProfile\\\"\",\n",
      "    \"\\\"C:\\\\Program Files\\\\Windows PowerShell\\\\Modules\\\\PowerShellGet\\\\1.0.0.1\\\\powershellget.exe\\\" Install-Package Expand-Archive Zipfile\",\n",
      "    \"\\\"wmic /output:\\\"C:\\\\Temp\\\\active_processes.csv\\\" /format:csv computer_id,name,process_id,parentprocess_id,description\\\"\"\n",
      "]\n"
     ]
    }
   ],
   "source": [
    "import pandas as pd\n",
    "import json\n",
    "\n",
    "query_cmd_list = ds['train']['query_cmd'][:10]\n",
    "query_cmd_json = json.dumps(query_cmd_list, indent=4)\n",
    "print(query_cmd_json)"
   ]
  },
  {
   "cell_type": "code",
   "execution_count": 7,
   "metadata": {},
   "outputs": [],
   "source": [
    "import os\n",
    "\n",
    "output_dir = \"./dataset\"\n",
    "output_file = \"query_cmd.json\"\n",
    "\n",
    "os.makedirs(output_dir, exist_ok=True)\n",
    "output_path = os.path.join(output_dir, output_file)\n",
    "\n",
    "with open(output_path, \"w\", encoding=\"utf-8\") as f:\n",
    "    json.dump(query_cmd_list, f, indent=4)"
   ]
  },
  {
   "cell_type": "markdown",
   "metadata": {},
   "source": [
    "run synthesize_cmds.py"
   ]
  },
  {
   "cell_type": "code",
   "execution_count": 23,
   "metadata": {},
   "outputs": [
    {
     "name": "stdout",
     "output_type": "stream",
     "text": [
      "Initialize Engine - 'OpenAIInferenceEngine' Successfully!\n",
      "Seed CMDs Num: 10\n",
      "CMD Synthesis Progress: 10/12\n"
     ]
    }
   ],
   "source": [
    "!python3 synthesize_cmds.py \\\n",
    "    --path-to-seed-cmds \"./dataset/query_cmd.json\" \\\n",
    "    --path-to-output-dir \"./output\" \\\n",
    "    --max-generation-num 12 \\\n",
    "    --path-to-credential-config ./credential_config.yaml"
   ]
  },
  {
   "cell_type": "code",
   "execution_count": null,
   "metadata": {},
   "outputs": [
    {
     "name": "stderr",
     "output_type": "stream",
     "text": [
      "/home/is1ab/anaconda3/envs/cmdcaliper/lib/python3.10/site-packages/tqdm/auto.py:21: TqdmWarning: IProgress not found. Please update jupyter and ipywidgets. See https://ipywidgets.readthedocs.io/en/stable/user_install.html\n",
      "  from .autonotebook import tqdm as notebook_tqdm\n"
     ]
    }
   ],
   "source": [
    "import pandas as pd\n",
    "import json\n",
    "from datasets import load_dataset\n",
    "\n",
    "ds = load_dataset(\"CyCraftAI/CyPHER\")"
   ]
  },
  {
   "cell_type": "code",
   "execution_count": null,
   "metadata": {},
   "outputs": [
    {
     "data": {
      "text/plain": [
       "DatasetDict({\n",
       "    train: Dataset({\n",
       "        features: ['query_cmd', 'negative_index_list', 'positive_cmd', 'idx'],\n",
       "        num_rows: 28520\n",
       "    })\n",
       "    test: Dataset({\n",
       "        features: ['query_cmd', 'negative_index_list', 'positive_cmd', 'idx'],\n",
       "        num_rows: 2807\n",
       "    })\n",
       "})"
      ]
     },
     "execution_count": 3,
     "metadata": {},
     "output_type": "execute_result"
    }
   ],
   "source": [
    "ds"
   ]
  },
  {
   "cell_type": "code",
   "execution_count": null,
   "metadata": {},
   "outputs": [],
   "source": [
    "\n",
    "query_cmd_list = ds['train']['query_cmd']\n",
    "query_cmd_json = json.dumps(query_cmd_list, indent=4)\n"
   ]
  },
  {
   "cell_type": "code",
   "execution_count": null,
   "metadata": {},
   "outputs": [],
   "source": [
    "\n",
    "import os\n",
    "\n",
    "output_dir = \"./dataset\"\n",
    "output_file = \"query_cmd_all.json\"\n",
    "\n",
    "os.makedirs(output_dir, exist_ok=True)\n",
    "output_path = os.path.join(output_dir, output_file)\n",
    "\n",
    "with open(output_path, \"w\", encoding=\"utf-8\") as f:\n",
    "    json.dump(query_cmd_list, f, indent=4)"
   ]
  },
  {
   "cell_type": "code",
   "execution_count": null,
   "metadata": {},
   "outputs": [],
   "source": []
  }
 ],
 "metadata": {
  "kernelspec": {
   "display_name": "cmdcaliper",
   "language": "python",
   "name": "python3"
  },
  "language_info": {
   "codemirror_mode": {
    "name": "ipython",
    "version": 3
   },
   "file_extension": ".py",
   "mimetype": "text/x-python",
   "name": "python",
   "nbconvert_exporter": "python",
   "pygments_lexer": "ipython3",
   "version": "3.10.15"
  }
 },
 "nbformat": 4,
 "nbformat_minor": 2
}
