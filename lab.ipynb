{
 "cells": [
  {
   "cell_type": "markdown",
   "metadata": {},
   "source": [
    "# CmdCaliper Lab 練習\n",
    "## 注意事項\n",
    "1. 請先註冊 Huggingface 帳號至 [CyCraftAI/CmdCaliper-small](https://huggingface.co/CyCraftAI/CmdCaliper-small) 填寫分享使用資料同意書\n",
    "2. 環境使用 Colab 進行，務必先擁有一個 Google 帳號並開啟 [Colab](https://colab.google/)\n",
    "3. 如果有使用到 CmdCaliper 的 [synthesize_cmds.py](synthesize_cmds.py) 或 [synthesize_positive_cmds.py](synthesize_positve_cmds.py) 時，會需要 OpenAI 的 API_KEY，這可能會產生費用\n",
    "4. 關於 OpenAI 的更多資訊請參閱 [OpenAI Platform](https://platform.openai.com/docs/overview)\n",
    "## Lab 說明\n",
    "此次練習包含 Lab0、Lab1、Lab2 三項，詳細說明請參閱下方題目說明處。\n",
    "1. 熟悉 Colab 及試用 CmdCaliper\n",
    "2. 根據敘述找到最接近的 cmdline\n",
    "3. 根據給定的 cmdline，推論出三個可能的下一步指令"
   ]
  },
  {
   "cell_type": "markdown",
   "metadata": {},
   "source": [
    "---"
   ]
  },
  {
   "cell_type": "markdown",
   "metadata": {},
   "source": [
    "## Lab 0 - 熟悉 Colab 及試用 CmdCaliper"
   ]
  },
  {
   "cell_type": "code",
   "execution_count": 14,
   "metadata": {},
   "outputs": [
    {
     "name": "stdout",
     "output_type": "stream",
     "text": [
      "Hello world\n"
     ]
    }
   ],
   "source": [
    "print(\"Hello world\")"
   ]
  },
  {
   "cell_type": "markdown",
   "metadata": {},
   "source": [
    "### Bash 操作\n",
    "Google Colab 最強大的功能是能夠免費使用雲端 GPU。您可以通過在指令前添加 ! 來執行大多數的 Bash 指令。\n",
    "* 從 Runtime -> Change Runtime Type -> Hardware Acceleration 開啟 GPU。\n",
    "* 整個 Colab 在雲端虛擬機器 (VM) 中運行。\n",
    "* 目前的 Colab 筆記本是運行在 Ubuntu 上。"
   ]
  },
  {
   "cell_type": "code",
   "execution_count": 15,
   "metadata": {},
   "outputs": [
    {
     "name": "stdout",
     "output_type": "stream",
     "text": [
      "total 152\n",
      "-rw-rw-r-- 1 is1ab is1ab   438 十二  6 10:30 credential_config_template.yaml\n",
      "-rw-rw-r-- 1 is1ab is1ab   289 十二  6 10:52 credential_config.yaml\n",
      "drwxrwxr-x 2 is1ab is1ab  4096 十二  6 13:58 dataset\n",
      "-rw-rw-r-- 1 is1ab is1ab  3732 十二  6 10:30 evaluate.py\n",
      "-rw-rw-r-- 1 is1ab is1ab  2486 十二 12 13:51 lab1_cmd_retrieval.py\n",
      "-rw-rw-r-- 1 is1ab is1ab  2926 十二  6 15:45 lab1_desc_to_cmd.py\n",
      "-rw-rw-r-- 1 is1ab is1ab 85610 十二 12 14:20 lab.ipynb\n",
      "drwxrwxrwx 2 is1ab is1ab  4096 十二  6 11:07 output\n",
      "-rw-rw-r-- 1 is1ab is1ab  5777 十二  6 10:30 README.md\n",
      "-rw-rw-r-- 1 is1ab is1ab   150 十二  6 10:55 requirements.txt\n",
      "drwxrwxr-x 3 is1ab is1ab  4096 十二  6 10:51 src\n",
      "-rw-rw-r-- 1 is1ab is1ab  2926 十二  6 11:29 synthesize_cmds.py\n",
      "-rw-rw-r-- 1 is1ab is1ab  3223 十二  6 10:30 synthesize_positive_cmds.py\n",
      "-rw-rw-r-- 1 is1ab is1ab  6470 十二  6 14:04 test.ipynb\n",
      "-rw-rw-r-- 1 is1ab is1ab  4597 十二  6 15:45 test.py\n"
     ]
    },
    {
     "name": "stderr",
     "output_type": "stream",
     "text": [
      "huggingface/tokenizers: The current process just got forked, after parallelism has already been used. Disabling parallelism to avoid deadlocks...\n",
      "To disable this warning, you can either:\n",
      "\t- Avoid using `tokenizers` before the fork if possible\n",
      "\t- Explicitly set the environment variable TOKENIZERS_PARALLELISM=(true | false)\n"
     ]
    },
    {
     "name": "stdout",
     "output_type": "stream",
     "text": [
      "/home/is1ab/code2/CmdCaliper\n"
     ]
    },
    {
     "name": "stderr",
     "output_type": "stream",
     "text": [
      "huggingface/tokenizers: The current process just got forked, after parallelism has already been used. Disabling parallelism to avoid deadlocks...\n",
      "To disable this warning, you can either:\n",
      "\t- Avoid using `tokenizers` before the fork if possible\n",
      "\t- Explicitly set the environment variable TOKENIZERS_PARALLELISM=(true | false)\n"
     ]
    }
   ],
   "source": [
    "!ls -l\n",
    "!pwd"
   ]
  },
  {
   "cell_type": "code",
   "execution_count": 16,
   "metadata": {},
   "outputs": [
    {
     "name": "stdout",
     "output_type": "stream",
     "text": [
      "DISTRIB_ID=Ubuntu\n",
      "DISTRIB_RELEASE=20.04\n",
      "DISTRIB_CODENAME=focal\n",
      "DISTRIB_DESCRIPTION=\"Ubuntu 20.04 LTS\"\n",
      "NAME=\"Ubuntu\"\n",
      "VERSION=\"20.04 LTS (Focal Fossa)\"\n",
      "ID=ubuntu\n",
      "ID_LIKE=debian\n",
      "PRETTY_NAME=\"Ubuntu 20.04 LTS\"\n",
      "VERSION_ID=\"20.04\"\n",
      "HOME_URL=\"https://www.ubuntu.com/\"\n",
      "SUPPORT_URL=\"https://help.ubuntu.com/\"\n",
      "BUG_REPORT_URL=\"https://bugs.launchpad.net/ubuntu/\"\n",
      "PRIVACY_POLICY_URL=\"https://www.ubuntu.com/legal/terms-and-policies/privacy-policy\"\n",
      "VERSION_CODENAME=focal\n",
      "UBUNTU_CODENAME=focal\n"
     ]
    },
    {
     "name": "stderr",
     "output_type": "stream",
     "text": [
      "huggingface/tokenizers: The current process just got forked, after parallelism has already been used. Disabling parallelism to avoid deadlocks...\n",
      "To disable this warning, you can either:\n",
      "\t- Avoid using `tokenizers` before the fork if possible\n",
      "\t- Explicitly set the environment variable TOKENIZERS_PARALLELISM=(true | false)\n"
     ]
    }
   ],
   "source": [
    "!cat /etc/*release"
   ]
  },
  {
   "cell_type": "markdown",
   "metadata": {},
   "source": [
    "### GPU 資訊\n",
    "\n",
    "GPU 的詳細資訊可使用 `!nvidia-smi` 指令。\n",
    "如果沒有顯示畫面，可能是您沒有切換到 GPU 的環境喔!"
   ]
  },
  {
   "cell_type": "code",
   "execution_count": 18,
   "metadata": {},
   "outputs": [
    {
     "name": "stdout",
     "output_type": "stream",
     "text": [
      "Thu Dec 12 14:24:57 2024       \n",
      "+---------------------------------------------------------------------------------------+\n",
      "| NVIDIA-SMI 535.183.01             Driver Version: 535.183.01   CUDA Version: 12.2     |\n",
      "|-----------------------------------------+----------------------+----------------------+\n",
      "| GPU  Name                 Persistence-M | Bus-Id        Disp.A | Volatile Uncorr. ECC |\n",
      "| Fan  Temp   Perf          Pwr:Usage/Cap |         Memory-Usage | GPU-Util  Compute M. |\n",
      "|                                         |                      |               MIG M. |\n",
      "|=========================================+======================+======================|\n",
      "|   0  NVIDIA RTX A5000               Off | 00000000:01:00.0 Off |                  Off |\n",
      "| 30%   33C    P8              15W / 230W |   1426MiB / 24564MiB |      0%      Default |\n",
      "|                                         |                      |                  N/A |\n",
      "+-----------------------------------------+----------------------+----------------------+\n",
      "                                                                                         \n",
      "+---------------------------------------------------------------------------------------+\n",
      "| Processes:                                                                            |\n",
      "|  GPU   GI   CI        PID   Type   Process name                            GPU Memory |\n",
      "|        ID   ID                                                             Usage      |\n",
      "|=======================================================================================|\n",
      "|    0   N/A  N/A      1264      G   /usr/lib/xorg/Xorg                           57MiB |\n",
      "|    0   N/A  N/A      2251      G   /usr/lib/xorg/Xorg                           76MiB |\n",
      "|    0   N/A  N/A      2459      G   /usr/bin/gnome-shell                         72MiB |\n",
      "|    0   N/A  N/A      2796      G   gnome-control-center                         40MiB |\n",
      "|    0   N/A  N/A    627221      C   ...b/anaconda3/envs/arxcite/bin/python      416MiB |\n",
      "|    0   N/A  N/A    903161      C   ...naconda3/envs/cmdcaliper/bin/python      736MiB |\n",
      "+---------------------------------------------------------------------------------------+\n"
     ]
    },
    {
     "name": "stderr",
     "output_type": "stream",
     "text": [
      "huggingface/tokenizers: The current process just got forked, after parallelism has already been used. Disabling parallelism to avoid deadlocks...\n",
      "To disable this warning, you can either:\n",
      "\t- Avoid using `tokenizers` before the fork if possible\n",
      "\t- Explicitly set the environment variable TOKENIZERS_PARALLELISM=(true | false)\n"
     ]
    }
   ],
   "source": [
    "!nvidia-smi"
   ]
  },
  {
   "cell_type": "code",
   "execution_count": 19,
   "metadata": {},
   "outputs": [
    {
     "name": "stdout",
     "output_type": "stream",
     "text": [
      "Python version 3.10.15\n",
      "Pytorch - version 2.5.1+cu124\n",
      "Pytorch - cuDNN version : 90100\n"
     ]
    }
   ],
   "source": [
    "from platform import python_version\n",
    "import torch\n",
    "print(\"Python version\", python_version())\n",
    "print(\"Pytorch - version\", torch.__version__)\n",
    "print(\"Pytorch - cuDNN version :\", torch.backends.cudnn.version())"
   ]
  },
  {
   "cell_type": "markdown",
   "metadata": {},
   "source": [
    "### 資料上傳 (非常重要)\n",
    "在 Google Colab 中，有以下幾種方式可以將資料上傳到虛擬機：\n",
    "\n",
    "1. **從本機上傳 (From Machine)**\n",
    "- 使用 Colab 左側內建的檔案管理面板。\n",
    "- 點擊左側的檔案標籤，然後選擇 **上傳 (Upload)**，直接將本機的檔案拖放或選擇要上傳的檔案。\n",
    "\n",
    "2. **從 Google Drive 上傳 (From Google Drive)**\n",
    "- 在 Colab 左側內建的檔案管理面板中，點擊 **Mount Drive (掛載雲端硬碟)**。\n",
    "- 掛載完成後，您的 Google Drive 會顯示在檔案樹中，您可以直接存取或載入檔案。\n",
    "\n",
    "1. **使用 `wget` 指令**\n",
    "- 如果資料存放在公開的網路上，您可以使用 `wget` 指令下載。\n",
    "- 指令範例：\n",
    "  ```bash\n",
    "  !wget http://example.com/yourfile.zip\n"
   ]
  },
  {
   "cell_type": "code",
   "execution_count": null,
   "metadata": {},
   "outputs": [],
   "source": [
    "from google.colab import drive\n",
    "drive.mount('/content/drive')"
   ]
  },
  {
   "cell_type": "code",
   "execution_count": 20,
   "metadata": {},
   "outputs": [
    {
     "name": "stdout",
     "output_type": "stream",
     "text": [
      "/home/is1ab/code2/CmdCaliper\n"
     ]
    },
    {
     "name": "stderr",
     "output_type": "stream",
     "text": [
      "huggingface/tokenizers: The current process just got forked, after parallelism has already been used. Disabling parallelism to avoid deadlocks...\n",
      "To disable this warning, you can either:\n",
      "\t- Avoid using `tokenizers` before the fork if possible\n",
      "\t- Explicitly set the environment variable TOKENIZERS_PARALLELISM=(true | false)\n"
     ]
    }
   ],
   "source": [
    "!pwd"
   ]
  },
  {
   "cell_type": "code",
   "execution_count": 22,
   "metadata": {},
   "outputs": [
    {
     "name": "stdout",
     "output_type": "stream",
     "text": [
      "--2024-12-12 14:31:50--  https://dl.fbaipublicfiles.com/XLM/codes_xnli_100\n",
      "Resolving dl.fbaipublicfiles.com (dl.fbaipublicfiles.com)... 13.35.7.50, 13.35.7.38, 13.35.7.128, ...\n",
      "Connecting to dl.fbaipublicfiles.com (dl.fbaipublicfiles.com)|13.35.7.50|:443... connected.\n",
      "HTTP request sent, awaiting response... "
     ]
    },
    {
     "name": "stderr",
     "output_type": "stream",
     "text": [
      "huggingface/tokenizers: The current process just got forked, after parallelism has already been used. Disabling parallelism to avoid deadlocks...\n",
      "To disable this warning, you can either:\n",
      "\t- Avoid using `tokenizers` before the fork if possible\n",
      "\t- Explicitly set the environment variable TOKENIZERS_PARALLELISM=(true | false)\n"
     ]
    },
    {
     "name": "stdout",
     "output_type": "stream",
     "text": [
      "200 OK\n",
      "Length: 2973279 (2.8M) [text/plain]\n",
      "Saving to: ‘codes_xnli_100’\n",
      "\n",
      "codes_xnli_100      100%[===================>]   2.83M  4.97MB/s    in 0.6s    \n",
      "\n",
      "2024-12-12 14:31:51 (4.97 MB/s) - ‘codes_xnli_100’ saved [2973279/2973279]\n",
      "\n"
     ]
    }
   ],
   "source": [
    "!wget https://dl.fbaipublicfiles.com/XLM/codes_xnli_100"
   ]
  },
  {
   "cell_type": "code",
   "execution_count": 23,
   "metadata": {},
   "outputs": [
    {
     "name": "stdout",
     "output_type": "stream",
     "text": [
      "a n 58300410\n",
      "e r 55874871\n",
      "e n 48332651\n",
      "i n 46367809\n",
      "a r 42047014\n",
      "s t 41963553\n",
      "a l 34495577\n",
      "e n</w> 33743928\n",
      "o n 30604783\n",
      "o r 30086868\n"
     ]
    },
    {
     "name": "stderr",
     "output_type": "stream",
     "text": [
      "huggingface/tokenizers: The current process just got forked, after parallelism has already been used. Disabling parallelism to avoid deadlocks...\n",
      "To disable this warning, you can either:\n",
      "\t- Avoid using `tokenizers` before the fork if possible\n",
      "\t- Explicitly set the environment variable TOKENIZERS_PARALLELISM=(true | false)\n"
     ]
    }
   ],
   "source": [
    "!head -n 10 codes_xnli_100"
   ]
  },
  {
   "cell_type": "code",
   "execution_count": 24,
   "metadata": {},
   "outputs": [
    {
     "name": "stdout",
     "output_type": "stream",
     "text": [
      "Cloning into 'MH6812-SPMS-2019'...\n"
     ]
    },
    {
     "name": "stderr",
     "output_type": "stream",
     "text": [
      "huggingface/tokenizers: The current process just got forked, after parallelism has already been used. Disabling parallelism to avoid deadlocks...\n",
      "To disable this warning, you can either:\n",
      "\t- Avoid using `tokenizers` before the fork if possible\n",
      "\t- Explicitly set the environment variable TOKENIZERS_PARALLELISM=(true | false)\n"
     ]
    },
    {
     "name": "stdout",
     "output_type": "stream",
     "text": [
      "remote: Enumerating objects: 3, done.\u001b[K\n",
      "remote: Counting objects: 100% (3/3), done.\u001b[K\n",
      "remote: Total 3 (delta 0), reused 3 (delta 0), pack-reused 0 (from 0)\u001b[K\n",
      "Unpacking objects: 100% (3/3), 228 bytes | 228.00 KiB/s, done.\n"
     ]
    }
   ],
   "source": [
    "!git clone https://github.com/ntunlp/MH6812-SPMS-2019"
   ]
  },
  {
   "cell_type": "code",
   "execution_count": 25,
   "metadata": {},
   "outputs": [
    {
     "name": "stdout",
     "output_type": "stream",
     "text": [
      "ls: cannot access 'CE-7455-SPMS-2019': No such file or directory\n"
     ]
    },
    {
     "name": "stderr",
     "output_type": "stream",
     "text": [
      "huggingface/tokenizers: The current process just got forked, after parallelism has already been used. Disabling parallelism to avoid deadlocks...\n",
      "To disable this warning, you can either:\n",
      "\t- Avoid using `tokenizers` before the fork if possible\n",
      "\t- Explicitly set the environment variable TOKENIZERS_PARALLELISM=(true | false)\n"
     ]
    }
   ],
   "source": [
    "!ls -l CE-7455-SPMS-2019"
   ]
  },
  {
   "cell_type": "markdown",
   "metadata": {},
   "source": [
    "其他 Python 的操作請參閱 [Python CheetSheet](PythonCheatSheet_tw.ipynb)"
   ]
  },
  {
   "cell_type": "markdown",
   "metadata": {},
   "source": [
    "### CmdCaliper\n",
    "\n",
    "預設使用模型 [CyCraftAI/CmdCaliper](https://huggingface.co/CyCraftAI/CmdCaliper-small)，記得要先填寫相關同意書才能使用喔!\n"
   ]
  },
  {
   "cell_type": "markdown",
   "metadata": {},
   "source": [
    "CmdCaliper 主要的兩隻程式 [synthesize_cmds.py](synthesize_cmds.py) 與 [synthesize_positive_cmds.py](synthesize_positive_cmds.py) 都至少需要一個 Inference Engine (例如 GPT)，這些模型的 API Key 可能需要付費才能使用，如果您沒有金鑰，這一部分可以不執行，直接看預覽結果～！"
   ]
  },
  {
   "cell_type": "markdown",
   "metadata": {},
   "source": [
    "API Key 的取得請參考投影片或是對應模型的官網說明。"
   ]
  },
  {
   "cell_type": "markdown",
   "metadata": {},
   "source": [
    "如果您有金鑰，請按照以下步驟。\n",
    "\n",
    "1. ``%cp credential_config_template.yaml credential_config.yaml``\n",
    "2. 編輯 [credential_config.yaml](credential_config.uaml) 填上您的金鑰\n"
   ]
  },
  {
   "cell_type": "code",
   "execution_count": null,
   "metadata": {},
   "outputs": [],
   "source": [
    "%cp credential_config_template.yaml credential_config.yaml"
   ]
  },
  {
   "cell_type": "code",
   "execution_count": null,
   "metadata": {},
   "outputs": [],
   "source": [
    "!pip3 install -r requirements.txt"
   ]
  },
  {
   "cell_type": "code",
   "execution_count": 2,
   "metadata": {},
   "outputs": [
    {
     "name": "stderr",
     "output_type": "stream",
     "text": [
      "/home/is1ab/anaconda3/envs/cmdcaliper/lib/python3.10/site-packages/tqdm/auto.py:21: TqdmWarning: IProgress not found. Please update jupyter and ipywidgets. See https://ipywidgets.readthedocs.io/en/stable/user_install.html\n",
      "  from .autonotebook import tqdm as notebook_tqdm\n"
     ]
    },
    {
     "data": {
      "text/plain": [
       "DatasetDict({\n",
       "    train: Dataset({\n",
       "        features: ['query_cmd', 'negative_index_list', 'positive_cmd', 'idx'],\n",
       "        num_rows: 28520\n",
       "    })\n",
       "    test: Dataset({\n",
       "        features: ['query_cmd', 'negative_index_list', 'positive_cmd', 'idx'],\n",
       "        num_rows: 2807\n",
       "    })\n",
       "})"
      ]
     },
     "execution_count": 2,
     "metadata": {},
     "output_type": "execute_result"
    }
   ],
   "source": [
    "from datasets import load_dataset \n",
    "\n",
    "ds = load_dataset(\"CyCraftAI/CyPHER\") #取得資料集\n",
    "ds"
   ]
  },
  {
   "cell_type": "code",
   "execution_count": 11,
   "metadata": {},
   "outputs": [
    {
     "data": {
      "text/plain": [
       "['sigcheck -n C:\\\\Windows\\\\System32\\\\ntoskrnl.exe -nobanner',\n",
       " '\\'wmic volume where \"DriveType=3\" set Label=\"Confidential Data\"\\'',\n",
       " 'cscript \"C:\\\\Windows\\\\System32\\\\Printing_Admin_Scripts\\\\en-US\\\\pubprn.vbs\" \"\\\\\\\\printserver\\\\HPLaserJet\" ADD',\n",
       " 'schtasks /create /tn MalwareTask /tr \"C:\\\\Users\\\\User1\\\\Documents\\\\malware.exe\" /sc DAILY /st 08:00',\n",
       " 'powershell -Command \"Get-Process | Select-Object -Property Name, ID, CPU\"',\n",
       " 'xcopy /s /e /i C:\\\\source\\\\* D:\\\\backup\\\\ (date:dd-MM-yyyy)',\n",
       " 'C:\\\\WINDOWS\\\\system32\\\\rundll32.exe sysmain.dll,PfSvWsSwapAssessmentTask',\n",
       " 'wmic os get FreePhysicalMemory /value | findstr \"Data\" > C:\\\\memory\\\\_report.txt',\n",
       " 'sigcheck64.exe -accepteula -vt \"C:\\\\Windows\\\\System32\\\\ntdll.dll\"',\n",
       " 'reg add \"HKLM\\\\Software\\\\ExampleKey\" /v ExampleValue /t REG_SZ /d \"ExampleData\" /f',\n",
       " 'query.exe logonsession /list /username:company\\\\user28 /pw: mypassword /cachekms:1000 /v /port:9090',\n",
       " 'msiexec /i \"C:\\\\Users\\\\admin\\\\Downloads\\\\app_installer.msi\" /qn /l*v \"C:\\\\Users\\\\admin\\\\Downloads\\\\install_log.txt\"',\n",
       " 'icacls C:\\\\Users\\\\Public\\\\Documents /grant users:(F) > permissions.log',\n",
       " 'wmic service call enable root\\\\CIMV2\\\\Security\\\\MSADs_ServiceAccount\\\\EventLog\\\\Security /value:true',\n",
       " 'start chrome \"https://github.com/Microsoft/PowerShell-DSC\"',\n",
       " 'explorer shell:::{8982063F-2823-4915-B2DE-C2E2D6A31967}',\n",
       " 'setx path \"%path%;C:\\\\MyApps\\\\tools\" /M',\n",
       " 'netsh advfirewall firewall add rule name=\"My Custom Firewall Rule\" protocol=TCP dir=in localport=8080 remoteip=192.168.1.50 action=allow',\n",
       " '\"dism.exe /online /enable-feature /featurename:NetFx3\"',\n",
       " 'wmic nic get adaptertype,macaddress']"
      ]
     },
     "execution_count": 11,
     "metadata": {},
     "output_type": "execute_result"
    }
   ],
   "source": [
    "import pandas as pd\n",
    "import json\n",
    "import random\n",
    "\n",
    "query_cmd_list = ds['train']['query_cmd']\n",
    "random_query_cmd_list = random.sample(query_cmd_list, 20) # 隨機抽取 20 筆資料\n",
    "random_query_cmd_list"
   ]
  },
  {
   "cell_type": "code",
   "execution_count": 12,
   "metadata": {},
   "outputs": [],
   "source": [
    "\n",
    "import os\n",
    "\n",
    "output_dir = \"./dataset\"\n",
    "output_file = \"query_cmd.json\"\n",
    "\n",
    "os.makedirs(output_dir, exist_ok=True)\n",
    "output_path = os.path.join(output_dir, output_file)\n",
    "\n",
    "with open(output_path, \"w\", encoding=\"utf-8\") as f:\n",
    "    json.dump(random_query_cmd_list, f, ensure_ascii=False, indent=4)"
   ]
  },
  {
   "cell_type": "code",
   "execution_count": null,
   "metadata": {},
   "outputs": [
    {
     "name": "stdout",
     "output_type": "stream",
     "text": [
      "Initialize Engine - 'OpenAIInferenceEngine' Successfully!\n",
      "Seed CMDs Num: 20\n",
      "CMD Synthesis Progress: 20/40\n"
     ]
    }
   ],
   "source": [
    "# Inference\n",
    "# 這隻程式主要是依據輸入的 cmd 當作參考用來產生新的指令\n",
    "# --max-generation-num 產生的 cmd 的總數! 所以一定要大於輸入的 cmd 數量\n",
    "# 預設的 --fewshot-cmd-num = 12, 所以 query_cmd 數量要大於等於 12 或直接指定更大的數字\n",
    "\n",
    "!python3 synthesize_cmds.py \\\n",
    "    --path-to-seed-cmds \"./dataset/query_cmd.json\" \\\n",
    "    --path-to-output-dir \"./output\" \\\n",
    "    --max-generation-num 40 \\\n",
    "    --path-to-credential-config ./credential_config.yaml\n"
   ]
  },
  {
   "cell_type": "code",
   "execution_count": 14,
   "metadata": {},
   "outputs": [
    {
     "name": "stdout",
     "output_type": "stream",
     "text": [
      "Initialize Engine - 'OpenAIInferenceEngine' Successfully!\n",
      "All Num of CMDs for Positive Synthesis: 20\n",
      "Remaining Num of CMDs for Positive Synthesis: 20\n",
      "Num of CMDs for Positive Synthesis: 20\n",
      "Positive CMD Synthesis Progress: 0/20\n"
     ]
    }
   ],
   "source": [
    "# 第二隻程式 symthesize_positive_cmds 是產生相似的 cmdline\n",
    " \n",
    "!python3 synthesize_positive_cmds.py \\\n",
    "    --path-to-all-cmds \"./dataset/query_cmd.json\" \\\n",
    "    --path-to-output-dir \"./output\" \\\n",
    "    --path-to-credential-config ./credential_config.yaml"
   ]
  },
  {
   "cell_type": "markdown",
   "metadata": {},
   "source": [
    "### 評估程式 (核心貢獻)"
   ]
  },
  {
   "cell_type": "code",
   "execution_count": 44,
   "metadata": {},
   "outputs": [
    {
     "name": "stdout",
     "output_type": "stream",
     "text": [
      "Using the SentenceTransformerInferencer for the model - CyCraftAI/CmdCaliper-small\n",
      "The performance of the model - CyCraftAI/CmdCaliper-small: ({3: 0.8681273007956477, 10: 0.8777671750329573}, {3: 0.8920555753473658, 10: 0.9476309226932882})\n"
     ]
    }
   ],
   "source": [
    "!python3 evaluate.py --model-name CyCraftAI/CmdCaliper-small \\\n",
    "    --batch-size 16 --device cuda"
   ]
  },
  {
   "cell_type": "markdown",
   "metadata": {},
   "source": [
    "## Lab 1 - 根據敘述找到最接近的 cmdline\n",
    "\n",
    "搜尋時測試大約會花費 1-2 分鐘，可以測試一個 Case 即可。"
   ]
  },
  {
   "cell_type": "markdown",
   "metadata": {},
   "source": [
    "在一個安靜的辦公日，安全運維中心的監控系統突然報告多台伺服器上出現了異常活動。經過初步檢查，發現可能存在未經授權的權限提升行為，並且疑似攻擊者在伺服器中執行了一些命令，但具體內容無法完全掌握。\n",
    "\n",
    "安全分析團隊決定根據現有的威脅情資描述，從 CyPHER 資料集中查找與攻擊行為相關的 cmdline，以便追蹤攻擊者的行為軌跡並評估影響範圍。"
   ]
  },
  {
   "cell_type": "markdown",
   "metadata": {},
   "source": [
    "首席資安分析師發現駭客意圖：\n",
    "\n",
    "「攻擊者利用 PowerShell 命令執行了一個惡意程式，並隱藏了執行過程的視窗。該命令使用 Start-Process 指令執行指定路徑下的惡意可執行檔案 exe.exe，同時以 -WindowStyle Hidden 隱藏視窗，降低使用者察覺的可能性。」\n",
    "\n",
    "透過 GPT 請他幫忙產生對應的攻擊指令：\n",
    "``powershell -Command \"Start-Process 'C:\\path\\to\\malicious\\exe.exe' -PassThru\" -WindowStyle Hidden``"
   ]
  },
  {
   "cell_type": "code",
   "execution_count": 19,
   "metadata": {},
   "outputs": [
    {
     "name": "stdout",
     "output_type": "stream",
     "text": [
      "Loading model: CyCraftAI/CmdCaliper-small\n",
      "Querying for similar commands to: powershell -Command \"Start-Process C:pathtomaliciousexe.exe -PassThru\" -WindowStyle Hidden\n",
      "Top similar commands:\n",
      "Command: powershell -Command \"Start-Process 'C:\\path\\to\\malicious\\exe.exe' -PassThru\" -WindowStyle Hidden, Similarity Score: 0.8187\n",
      "Command: powershell -NoProfile -ExecutionPolicy Bypass -WindowStyle Hidden -File C:\\tmp\\powershell-malicious-command, Similarity Score: 0.5743\n",
      "Command: powershell.exe -ExecutionPolicy Bypass -Command \"Set-MpPreference -DisableRealtimeMonitoring $true; Start-Process -FilePath 'C:\\Program Files\\Malware\\malicious_app.exe' -WindowStyle Hidden; Set-MpPreference -DisableRealtimeMonitoring $false\", Similarity Score: 0.5641\n",
      "Command: powershell -ExecutionPolicy bypass -windowstyle hidden -file siphon.ps1, Similarity Score: 0.5627\n",
      "Command: \"powershell -windowstyle hidden -Command Start-Process powershell -Verb RunAs -ArgumentList \"-noexit ; Get-Credential -Username fakeuser -Message \"\"Enter fake credentials\"\"\"\", Similarity Score: 0.5578\n"
     ]
    }
   ],
   "source": [
    "!python3 cmd_retrieval.py --query-cmd 'powershell -Command \"Start-Process 'C:\\path\\to\\malicious\\exe.exe' -PassThru\" -WindowStyle Hidden' --model=CyCraftAI/CmdCaliper-small"
   ]
  },
  {
   "cell_type": "markdown",
   "metadata": {},
   "source": [
    "一位安全分析師接到以下情資：\n",
    "\n",
    "「攻擊者利用 Windows 任務排程工具 schtasks 創建了一個名為 \"SystemUpdate\" 的計劃任務。該任務設置為在午夜 00:00 時執行，並以最高的 SYSTEM 權限運行。該命令通過執行 cmd.exe 執行路徑中的惡意程式 C:\\temp\\malware.exe，以實現進一步的攻擊行為。」\n",
    "\n",
    "透過 GPT 請他幫忙產生對應的攻擊指令：\n",
    "``schtasks /create /tn \"SystemUpdate\" /tr \"C:\\Windows\\System32\\cmd.exe /c C:\\temp\\malware.exe\" /sc once /st 00:00 /ru SYSTEM``"
   ]
  },
  {
   "cell_type": "code",
   "execution_count": 20,
   "metadata": {},
   "outputs": [
    {
     "name": "stdout",
     "output_type": "stream",
     "text": [
      "Loading model: CyCraftAI/CmdCaliper-small\n",
      "Querying for similar commands to: schtasks /create /tn \"SystemUpdate\" /tr \"C:\\Windows\\System32\\cmd.exe /c C:\\temp\\malware.exe\" /sc once /st 00:00 /ru SYSTEM\n",
      "Top similar commands:\n",
      "Command: schtasks /create /tn \"MalwareUpdate\" /tr \"C:\\malware_update.exe\" /sc DAILY /st 00:00 /ru SYSTEM, Similarity Score: 0.8446\n",
      "Command: schtasks /create /tn \"MalwareUpdate\" /tr \"C:\\malware\\update.exe\" /sc daily /st 12:00 /ru SYSTEM, Similarity Score: 0.8049\n",
      "Command: schtasks /create /tn \"MaliciousTask\" /tr \"C:\\Windows\\System32\\malware.exe\" /sc once /st 23:59 /ru system, Similarity Score: 0.7842\n",
      "Command: schtasks /create /tn \"Run Malware\" /tr \"C:\\malware.exe\" /sc once /st 00:00 /sd 01/01/2023 /ru \"SYSTEM\", Similarity Score: 0.7784\n",
      "Command: \"C:\\Windows\\System32\\schtasks.exe\" /CREATE /TN \"Malware Execution\" /TR \"\\\"C:\\Temp\\malware.exe\\\"\" /SC DAILY /ST 00:00, Similarity Score: 0.7698\n"
     ]
    }
   ],
   "source": [
    "!python3 cmd_retrieval.py --query-cmd 'schtasks /create /tn \"SystemUpdate\" /tr \"C:\\Windows\\System32\\cmd.exe /c C:\\temp\\malware.exe\" /sc once /st 00:00 /ru SYSTEM' --model=CyCraftAI/CmdCaliper-small"
   ]
  },
  {
   "cell_type": "markdown",
   "metadata": {},
   "source": [
    "後來一位安全分析師發現：\n",
    "\n",
    "「攻擊者可能使用了一個命令來清除 Windows 系統的安全事件日誌，隱藏他們的足跡」\n",
    "\n",
    "透過 GPT 請他幫忙產生對應的攻擊指令：\n",
    "``wevtutil cl Security && wevtutil cl System && wevtutil cl Application && reg add \"HKLM\\SYSTEM\\CurrentControlSet\\Services\\EventLog\\Security\" /v AutoBackupLogFiles /t REG_DWORD /d 0 /f && sc config EventLog start= disabled``\n",
    "\n",
    "or \n",
    "\n",
    "``wevtutil cl Security``"
   ]
  },
  {
   "cell_type": "code",
   "execution_count": 21,
   "metadata": {},
   "outputs": [
    {
     "name": "stdout",
     "output_type": "stream",
     "text": [
      "Loading model: CyCraftAI/CmdCaliper-small\n",
      "Querying for similar commands to: wevtutil cl Security && wevtutil cl System && wevtutil cl Application && reg add \"HKLM\\SYSTEM\\CurrentControlSet\\Services\\EventLog\\Security\" /v AutoBackupLogFiles /t REG_DWORD /d 0 /f && sc config EventLog start= disabled\n",
      "Top similar commands:\n",
      "Command: wevtutil cl SecurityLog && wevtutil cl System && wevtutil cl Application, Similarity Score: 0.5901\n",
      "Command: reg  add \"HKLM\\System\\CurrentControlSet\\Services\\SecurityHealthService\" /v \"Start\" /t REG_DWORD /d \"4\" /f, Similarity Score: 0.5743\n",
      "Command: wevtutil cl System & wevtutil cl Security & wevtutil cl Application & wevtutil cl Setup & wevtutil cl ForwardedEvents, Similarity Score: 0.5660\n",
      "Command: wevtutil epl System C:\\Logs\\System.evtx && wevtutil epl Security C:\\Logs\\Security.evtx && wevtutil epl Application C:\\Logs\\Application.evtx, Similarity Score: 0.5641\n",
      "Command: wevtutil cl Application && wevtutil cl Security && wevtutil cl System && wevtutil gl Application /c:5000 && wevtutil gl Security /c:5000 && wevtutil gl System /c:5000, Similarity Score: 0.5637\n"
     ]
    }
   ],
   "source": [
    "!python3 cmd_retrieval.py --query-cmd 'wevtutil cl Security && wevtutil cl System && wevtutil cl Application && reg add \"HKLM\\SYSTEM\\CurrentControlSet\\Services\\EventLog\\Security\" /v AutoBackupLogFiles /t REG_DWORD /d 0 /f && sc config EventLog start= disabled' --model=CyCraftAI/CmdCaliper-small"
   ]
  },
  {
   "cell_type": "markdown",
   "metadata": {},
   "source": [
    "## Lab 2 - 根據給定的 cmdline，推論出三個可能的下一步指令"
   ]
  },
  {
   "cell_type": "code",
   "execution_count": null,
   "metadata": {},
   "outputs": [],
   "source": []
  },
  {
   "cell_type": "code",
   "execution_count": null,
   "metadata": {},
   "outputs": [],
   "source": []
  },
  {
   "cell_type": "code",
   "execution_count": null,
   "metadata": {},
   "outputs": [],
   "source": []
  }
 ],
 "metadata": {
  "kernelspec": {
   "display_name": "cmdcaliper",
   "language": "python",
   "name": "python3"
  },
  "language_info": {
   "codemirror_mode": {
    "name": "ipython",
    "version": 3
   },
   "file_extension": ".py",
   "mimetype": "text/x-python",
   "name": "python",
   "nbconvert_exporter": "python",
   "pygments_lexer": "ipython3",
   "version": "3.10.15"
  }
 },
 "nbformat": 4,
 "nbformat_minor": 2
}
